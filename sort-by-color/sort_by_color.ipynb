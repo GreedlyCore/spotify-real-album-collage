{
 "cells": [
  {
   "cell_type": "code",
   "execution_count": 7,
   "metadata": {},
   "outputs": [
    {
     "name": "stdout",
     "output_type": "stream",
     "text": [
      "Defaulting to user installation because normal site-packages is not writeable\n",
      "Requirement already satisfied: scikit-learn in /Users/jordangeorge/Library/Python/3.9/lib/python/site-packages (1.5.0)\n",
      "Requirement already satisfied: numpy>=1.19.5 in /Users/jordangeorge/Library/Python/3.9/lib/python/site-packages (from scikit-learn) (1.24.1)\n",
      "Requirement already satisfied: scipy>=1.6.0 in /Users/jordangeorge/Library/Python/3.9/lib/python/site-packages (from scikit-learn) (1.13.1)\n",
      "Requirement already satisfied: joblib>=1.2.0 in /Users/jordangeorge/Library/Python/3.9/lib/python/site-packages (from scikit-learn) (1.4.2)\n",
      "Requirement already satisfied: threadpoolctl>=3.1.0 in /Users/jordangeorge/Library/Python/3.9/lib/python/site-packages (from scikit-learn) (3.5.0)\n",
      "\n",
      "\u001b[1m[\u001b[0m\u001b[34;49mnotice\u001b[0m\u001b[1;39;49m]\u001b[0m\u001b[39;49m A new release of pip is available: \u001b[0m\u001b[31;49m24.0\u001b[0m\u001b[39;49m -> \u001b[0m\u001b[32;49m24.1\u001b[0m\n",
      "\u001b[1m[\u001b[0m\u001b[34;49mnotice\u001b[0m\u001b[1;39;49m]\u001b[0m\u001b[39;49m To update, run: \u001b[0m\u001b[32;49m/Library/Developer/CommandLineTools/usr/bin/python3 -m pip install --upgrade pip\u001b[0m\n",
      "Defaulting to user installation because normal site-packages is not writeable\n",
      "Requirement already satisfied: opencv-python in /Users/jordangeorge/Library/Python/3.9/lib/python/site-packages (4.10.0.84)\n",
      "Requirement already satisfied: numpy>=1.21.0 in /Users/jordangeorge/Library/Python/3.9/lib/python/site-packages (from opencv-python) (1.24.1)\n",
      "\n",
      "\u001b[1m[\u001b[0m\u001b[34;49mnotice\u001b[0m\u001b[1;39;49m]\u001b[0m\u001b[39;49m A new release of pip is available: \u001b[0m\u001b[31;49m24.0\u001b[0m\u001b[39;49m -> \u001b[0m\u001b[32;49m24.1\u001b[0m\n",
      "\u001b[1m[\u001b[0m\u001b[34;49mnotice\u001b[0m\u001b[1;39;49m]\u001b[0m\u001b[39;49m To update, run: \u001b[0m\u001b[32;49m/Library/Developer/CommandLineTools/usr/bin/python3 -m pip install --upgrade pip\u001b[0m\n",
      "Defaulting to user installation because normal site-packages is not writeable\n",
      "Collecting imutils\n",
      "  Downloading imutils-0.5.4.tar.gz (17 kB)\n",
      "  Preparing metadata (setup.py) ... \u001b[?25ldone\n",
      "\u001b[?25hBuilding wheels for collected packages: imutils\n",
      "  Building wheel for imutils (setup.py) ... \u001b[?25ldone\n",
      "\u001b[?25h  Created wheel for imutils: filename=imutils-0.5.4-py3-none-any.whl size=25837 sha256=891ac9ab994035021d7dc82777c8d69ee689249d7c93573e9dc5f4162a8b61c1\n",
      "  Stored in directory: /Users/jordangeorge/Library/Caches/pip/wheels/4b/a5/2d/4a070a801d3a3d93f033d3ee9728f470f514826e89952df3ea\n",
      "Successfully built imutils\n",
      "Installing collected packages: imutils\n",
      "Successfully installed imutils-0.5.4\n",
      "\n",
      "\u001b[1m[\u001b[0m\u001b[34;49mnotice\u001b[0m\u001b[1;39;49m]\u001b[0m\u001b[39;49m A new release of pip is available: \u001b[0m\u001b[31;49m24.0\u001b[0m\u001b[39;49m -> \u001b[0m\u001b[32;49m24.1\u001b[0m\n",
      "\u001b[1m[\u001b[0m\u001b[34;49mnotice\u001b[0m\u001b[1;39;49m]\u001b[0m\u001b[39;49m To update, run: \u001b[0m\u001b[32;49m/Library/Developer/CommandLineTools/usr/bin/python3 -m pip install --upgrade pip\u001b[0m\n"
     ]
    }
   ],
   "source": [
    "!pip3 install scikit-learn\n",
    "!pip3 install opencv-python\n",
    "!pip3 install imutils"
   ]
  },
  {
   "cell_type": "code",
   "execution_count": null,
   "metadata": {},
   "outputs": [
    {
     "name": "stdout",
     "output_type": "stream",
     "text": [
      "processing image 50 of 225\n",
      "processing image 100 of 225\n",
      "processing image 150 of 225\n",
      "processing image 200 of 225\n"
     ]
    }
   ],
   "source": [
    "# this functionality is now in the function `utils.create_sorted_color_montage()`\n",
    "# leaving script for blog\n",
    "\n",
    "# SCRIPT WILL FORCE ALL IMAGES TO BE THE SAME SIZE IN OUTPUT\n",
    "# SCRIPT WILL FORCE ALL IMAGES TO BE THE SAME SIZE IN OUTPUT\n",
    "# SCRIPT WILL FORCE ALL IMAGES TO BE THE SAME SIZE IN OUTPUT\n",
    "\n",
    "# ----------------------------------------------------\n",
    "import argparse\n",
    "\n",
    "import cv2\n",
    "import imutils\n",
    "import imutils.paths as paths\n",
    "\n",
    "import utils\n",
    "\n",
    "# construct the argument parser and parse the arguments\n",
    "# ap = argparse.ArgumentParser()\n",
    "# ap.add_argument(\"-i\", \"--input\", default='icons',\n",
    "#                 help=\"Path to the dir that contains the images to be sorted\")\n",
    "# ap.add_argument(\"-o\", \"--output\", default='sorted_images.jpg',\n",
    "#                 help=\"Path to the dir to write feature output to\")\n",
    "# ap.add_argument(\"-k\", \"--clusters\", type=int, default=3,\n",
    "#                 help=\"# of clusters to use when finding image dominant color\")\n",
    "# ap.add_argument(\"-s\", \"--sizeHeight\", type=int, default=300,\n",
    "#                 help=\"output height of sorted output image in pixels\")\n",
    "# args = vars(ap.parse_args())\n",
    "\n",
    "# grab the image paths from the dataset directory\n",
    "image_paths = list(paths.list_images('../../images/'))\n",
    "\n",
    "# init dominant color store\n",
    "colors = []\n",
    "# iterate over ims\n",
    "for i, path in enumerate(image_paths):\n",
    "    if i > 0 and i % 50 == 0:\n",
    "        print('processing image {} of {}'.format(i, len(image_paths)))\n",
    "    # read in image\n",
    "    image = cv2.imread(path)\n",
    "    # convert to hsv colorspace\n",
    "    hsv_image = cv2.cvtColor(image, cv2.COLOR_BGR2HSV)\n",
    "    # get dominant color\n",
    "    color = utils.get_dominant_color(hsv_image, k=3,\n",
    "                                     image_processing_size=(25, 25))\n",
    "    # store color\n",
    "    colors.append(color)\n",
    "\n",
    "# sort colors by hue (return list of image inds sorted)\n",
    "sorted_inds = sorted(range(len(colors)), key=lambda i: colors[i], reverse=True)\n",
    "\n",
    "# use last image's shape as default shape for all images\n",
    "image_shape = (image.shape[0], image.shape[1])\n",
    "\n",
    "# init montage\n",
    "montage = utils.results_montage(\n",
    "    image_size=image_shape,\n",
    "    images_per_main_axis=10,\n",
    "    num_results=len(image_paths),\n",
    "    by_row=False\n",
    ")\n",
    "\n",
    "# iter over sorted image inds\n",
    "for ind in sorted_inds:\n",
    "    # read in image\n",
    "    image = cv2.imread(image_paths[ind])\n",
    "    # ensure all images are same size\n",
    "    image = cv2.resize(image, image_shape, interpolation=cv2.INTER_AREA)\n",
    "    # add image i to montage\n",
    "    montage.add_result(image)\n",
    "\n",
    "# resize output collage\n",
    "out = imutils.resize(montage.montage, height=300)\n",
    "\n",
    "# show image to screen\n",
    "cv2.imshow('Sorted Images', out)\n",
    "cv2.waitKey(0)\n",
    "# save output\n",
    "cv2.imwrite('sorted_images.jpg', out)\n"
   ]
  },
  {
   "cell_type": "code",
   "execution_count": null,
   "metadata": {},
   "outputs": [],
   "source": []
  },
  {
   "cell_type": "code",
   "execution_count": null,
   "metadata": {},
   "outputs": [],
   "source": []
  }
 ],
 "metadata": {
  "kernelspec": {
   "display_name": "Python 3 (ipykernel)",
   "language": "python",
   "name": "python3"
  },
  "language_info": {
   "codemirror_mode": {
    "name": "ipython",
    "version": 3
   },
   "file_extension": ".py",
   "mimetype": "text/x-python",
   "name": "python",
   "nbconvert_exporter": "python",
   "pygments_lexer": "ipython3",
   "version": "3.9.6"
  }
 },
 "nbformat": 4,
 "nbformat_minor": 4
}
