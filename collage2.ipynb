{
 "cells": [
  {
   "cell_type": "code",
   "execution_count": null,
   "metadata": {},
   "outputs": [],
   "source": [
    "# !pip3 install spotify\n",
    "# !pip3 install image\n",
    "# !pip3 install Send2Trash\n",
    "# !pip3 install matplotlib"
   ]
  },
  {
   "cell_type": "code",
   "execution_count": null,
   "metadata": {},
   "outputs": [],
   "source": [
    "import spotipy\n",
    "from spotipy.oauth2 import SpotifyOAuth\n",
    "import requests\n",
    "from PIL import Image\n",
    "from io import BytesIO\n",
    "import math\n",
    "import os\n",
    "from datetime import datetime"
   ]
  },
  {
   "cell_type": "code",
   "execution_count": null,
   "metadata": {},
   "outputs": [],
   "source": [
    "# Spotify API credentials, the guide of getting it provided in README.md\n",
    "client_id = os.environ['SPOTIFY_CLIENT_ID']\n",
    "client_secret = os.environ['SPOTIFY_CLIENT_SECRET']\n",
    "redirect_uri = 'http://localhost:8888/callback'\n",
    "\n",
    "# Authenticate with Spotify\n",
    "scope = 'user-library-read user-read-currently-playing user-read-playback-state user-read-recently-played'\n",
    "sp = spotipy.Spotify(auth_manager=SpotifyOAuth(client_id=client_id,\n",
    "                                               client_secret=client_secret,\n",
    "                                               redirect_uri=redirect_uri,\n",
    "                                               scope=scope))"
   ]
  },
  {
   "cell_type": "code",
   "execution_count": null,
   "metadata": {},
   "outputs": [],
   "source": [
    "# Fetch all saved albums\n",
    "results = sp.current_user_saved_albums(limit=50)\n",
    "albums = results['items']\n",
    "\n",
    "print('making...')\n",
    "\n",
    "while results['next']:\n",
    "    results = sp.next(results)\n",
    "    albums.extend(results['items'])\n",
    "\n",
    "# Extract album cover URLs\n",
    "cover_urls = [album['album']['images'][0]['url'] for album in albums]\n",
    "\n",
    "# Download album cover images\n",
    "images = []\n",
    "for url in cover_urls:\n",
    "    response = requests.get(url)\n",
    "    img = Image.open(BytesIO(response.content))\n",
    "    images.append(img)"
   ]
  },
  {
   "cell_type": "code",
   "execution_count": null,
   "metadata": {},
   "outputs": [],
   "source": [
    "# Determine the size of the collage\n",
    "num_images = len(images)\n",
    "cols = int(math.sqrt(num_images))\n",
    "rows = math.ceil(num_images / cols)\n",
    "thumbnail_width = min(img.size[0] for img in images)\n",
    "thumbnail_height = min(img.size[1] for img in images)\n",
    "\n",
    "# Create a blank canvas for the collage\n",
    "collage_width = cols * thumbnail_width\n",
    "collage_height = rows * thumbnail_height\n",
    "collage = Image.new('RGB', (collage_width, collage_height))"
   ]
  },
  {
   "cell_type": "code",
   "execution_count": null,
   "metadata": {},
   "outputs": [],
   "source": [
    "# Paste images into the collage\n",
    "for i, img in enumerate(images):\n",
    "    img.thumbnail((thumbnail_width, thumbnail_height))\n",
    "    x = (i % cols) * thumbnail_width\n",
    "    y = (i // cols) * thumbnail_height\n",
    "    collage.paste(img, (x, y))\n",
    "\n",
    "# Save the collage\n",
    "collage_dir = \"./collages/\"\n",
    "if not os.path.exists(collage_dir):\n",
    "    os.makedirs(collage_dir)\n",
    "\n",
    "current_time = str(int(datetime.now().strftime('%Y%m%d%H%M%S')))\n",
    "\n",
    "file_name = current_time + \"_collage.jpeg\"\n",
    "\n",
    "file_path = collage_dir + file_name\n",
    "\n",
    "collage.save(file_path)\n",
    "print(f\"Collage saved as {file_name} in collage folder\")"
   ]
  }
 ],
 "metadata": {
  "language_info": {
   "name": "python"
  }
 },
 "nbformat": 4,
 "nbformat_minor": 2
}
